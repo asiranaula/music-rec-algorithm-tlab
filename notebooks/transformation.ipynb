{
 "cells": [
  {
   "cell_type": "code",
   "execution_count": 1,
   "metadata": {},
   "outputs": [
    {
     "data": {
      "text/plain": [
       "(28362, 24)"
      ]
     },
     "execution_count": 1,
     "metadata": {},
     "output_type": "execute_result"
    }
   ],
   "source": [
    "import pandas as pd\n",
    "import seaborn as sns\n",
    "import matplotlib.pyplot as plt\n",
    "from sklearn.preprocessing import StandardScaler\n",
    "import joblib\n",
    "\n",
    "df = pd.read_csv('/Users/sa25/Desktop/music-rec-algorithm-TLAB/data/train.csv')\n",
    "\n",
    "df.shape"
   ]
  },
  {
   "cell_type": "code",
   "execution_count": 2,
   "metadata": {},
   "outputs": [
    {
     "data": {
      "text/plain": [
       "Index(['Unnamed: 0', 'artist_name', 'track_name', 'release_date', 'genre',\n",
       "       'lyrics', 'len', 'dating', 'violence', 'world/life', 'night/time',\n",
       "       'shake the audience', 'family/gospel', 'romantic', 'communication',\n",
       "       'obscene', 'music', 'movement/places', 'light/visual perceptions',\n",
       "       'family/spiritual', 'sadness', 'feelings', 'topic', 'age'],\n",
       "      dtype='object')"
      ]
     },
     "execution_count": 2,
     "metadata": {},
     "output_type": "execute_result"
    }
   ],
   "source": [
    "df.columns"
   ]
  },
  {
   "cell_type": "code",
   "execution_count": 3,
   "metadata": {},
   "outputs": [],
   "source": [
    "# Drop columns that do not help define clusters\n",
    "\n",
    "df_cleaned = df[[\n",
    "    #'Unnamed: 0', 'artist_name', 'track_name', \n",
    "    'release_date', 'genre',\n",
    "    #'lyrics', \n",
    "    'len', 'dating', 'violence', 'world/life', 'night/time',\n",
    "    'shake the audience', 'family/gospel', 'romantic', 'communication',\n",
    "    'obscene', 'music', 'movement/places', 'light/visual perceptions',\n",
    "    'family/spiritual', 'sadness', 'feelings', 'topic', \n",
    "    #'age'\n",
    "    ]].copy()"
   ]
  },
  {
   "cell_type": "code",
   "execution_count": 4,
   "metadata": {},
   "outputs": [
    {
     "data": {
      "text/plain": [
       "Index(['release_date', 'genre', 'len', 'dating', 'violence', 'world/life',\n",
       "       'night/time', 'shake the audience', 'family/gospel', 'romantic',\n",
       "       'communication', 'obscene', 'music', 'movement/places',\n",
       "       'light/visual perceptions', 'family/spiritual', 'sadness', 'feelings',\n",
       "       'topic'],\n",
       "      dtype='object')"
      ]
     },
     "execution_count": 4,
     "metadata": {},
     "output_type": "execute_result"
    }
   ],
   "source": [
    "df_cleaned.columns"
   ]
  },
  {
   "cell_type": "code",
   "execution_count": 5,
   "metadata": {},
   "outputs": [
    {
     "data": {
      "text/plain": [
       "release_date                  int64\n",
       "genre                        object\n",
       "len                           int64\n",
       "dating                      float64\n",
       "violence                    float64\n",
       "world/life                  float64\n",
       "night/time                  float64\n",
       "shake the audience          float64\n",
       "family/gospel               float64\n",
       "romantic                    float64\n",
       "communication               float64\n",
       "obscene                     float64\n",
       "music                       float64\n",
       "movement/places             float64\n",
       "light/visual perceptions    float64\n",
       "family/spiritual            float64\n",
       "sadness                     float64\n",
       "feelings                    float64\n",
       "topic                        object\n",
       "dtype: object"
      ]
     },
     "execution_count": 5,
     "metadata": {},
     "output_type": "execute_result"
    }
   ],
   "source": [
    "df_cleaned.dtypes"
   ]
  },
  {
   "cell_type": "code",
   "execution_count": 6,
   "metadata": {},
   "outputs": [
    {
     "data": {
      "text/plain": [
       "release_date                0.0\n",
       "genre                       0.0\n",
       "len                         0.0\n",
       "dating                      0.0\n",
       "violence                    0.0\n",
       "world/life                  0.0\n",
       "night/time                  0.0\n",
       "shake the audience          0.0\n",
       "family/gospel               0.0\n",
       "romantic                    0.0\n",
       "communication               0.0\n",
       "obscene                     0.0\n",
       "music                       0.0\n",
       "movement/places             0.0\n",
       "light/visual perceptions    0.0\n",
       "family/spiritual            0.0\n",
       "sadness                     0.0\n",
       "feelings                    0.0\n",
       "topic                       0.0\n",
       "dtype: float64"
      ]
     },
     "execution_count": 6,
     "metadata": {},
     "output_type": "execute_result"
    }
   ],
   "source": [
    "# Check for % of Null/missing values\n",
    "\n",
    "df_cleaned.isnull().mean()"
   ]
  },
  {
   "cell_type": "code",
   "execution_count": 7,
   "metadata": {},
   "outputs": [],
   "source": [
    "# Flag outliers using IQR filtering\n",
    "df_flagged = df_cleaned.copy()\n",
    "\n",
    "# Loop through all numeric columns\n",
    "for col in df_flagged.select_dtypes(include=['float64', 'int64']).columns:\n",
    "    Q1 = df_flagged[col].quantile(0.25)\n",
    "    Q3 = df_flagged[col].quantile(0.75)\n",
    "    IQR = Q3 - Q1\n",
    "    lower_bound = Q1 - 1.5 * IQR\n",
    "    upper_bound = Q3 + 1.5 * IQR\n",
    "\n",
    "# Create new column that flags outliers (1 = outlier, 0 = normal)\n",
    "df_flagged[f'{col}_outlier'] = ((df_flagged[col] < lower_bound) | (df_flagged[col] > upper_bound)).astype(int)"
   ]
  },
  {
   "cell_type": "code",
   "execution_count": 8,
   "metadata": {},
   "outputs": [],
   "source": [
    "# Select only numeric features for clustering\n",
    "numeric_cols = df_flagged.select_dtypes(include=['float64', 'int64']).columns\n",
    "\n",
    "# Normalize data\n",
    "scaler = StandardScaler()\n",
    "df_scaled = pd.DataFrame(scaler.fit_transform(df_flagged[numeric_cols]), columns=numeric_cols)"
   ]
  },
  {
   "cell_type": "code",
   "execution_count": 9,
   "metadata": {},
   "outputs": [
    {
     "data": {
      "text/plain": [
       "['scaler_model.joblib']"
      ]
     },
     "execution_count": 9,
     "metadata": {},
     "output_type": "execute_result"
    }
   ],
   "source": [
    "# Save the scaler model\n",
    "joblib.dump(scaler, 'scaler_model.joblib')"
   ]
  },
  {
   "cell_type": "code",
   "execution_count": 10,
   "metadata": {},
   "outputs": [
    {
     "name": "stdout",
     "output_type": "stream",
     "text": [
      "Outlier flags: ['feelings_outlier']\n",
      "feelings_outlier: 3140 outliers\n"
     ]
    }
   ],
   "source": [
    "# List all outlier flags\n",
    "outlier_flags = [col for col in df_flagged.columns if '_outlier' in col]\n",
    "print(\"Outlier flags:\", outlier_flags)\n",
    "\n",
    "# Check how many outliers were flagged per feature\n",
    "for flag in outlier_flags:\n",
    "    count = df_flagged[flag].sum()\n",
    "    print(f\"{flag}: {count} outliers\")"
   ]
  },
  {
   "cell_type": "code",
   "execution_count": 11,
   "metadata": {},
   "outputs": [],
   "source": [
    "df_model = df_flagged.copy()"
   ]
  },
  {
   "cell_type": "code",
   "execution_count": 12,
   "metadata": {},
   "outputs": [
    {
     "data": {
      "text/plain": [
       "['numeric_cols.joblib']"
      ]
     },
     "execution_count": 12,
     "metadata": {},
     "output_type": "execute_result"
    }
   ],
   "source": [
    "joblib.dump(numeric_cols, 'numeric_cols.joblib')"
   ]
  },
  {
   "cell_type": "code",
   "execution_count": 13,
   "metadata": {},
   "outputs": [],
   "source": [
    "# Save final DataFrame as new CSV file\n",
    "df_model.to_csv('cleaned_dataset.csv', index=False)"
   ]
  }
 ],
 "metadata": {
  "kernelspec": {
   "display_name": "base",
   "language": "python",
   "name": "python3"
  },
  "language_info": {
   "codemirror_mode": {
    "name": "ipython",
    "version": 3
   },
   "file_extension": ".py",
   "mimetype": "text/x-python",
   "name": "python",
   "nbconvert_exporter": "python",
   "pygments_lexer": "ipython3",
   "version": "3.12.7"
  }
 },
 "nbformat": 4,
 "nbformat_minor": 2
}
